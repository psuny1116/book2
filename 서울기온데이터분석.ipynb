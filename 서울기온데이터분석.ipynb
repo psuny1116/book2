{
 "cells": [
  {
   "cell_type": "code",
   "execution_count": 1,
   "metadata": {},
   "outputs": [],
   "source": [
    "import pandas as pd\n",
    "import numpy as np\n",
    "\n",
    "import matplotlib.pyplot as plt"
   ]
  },
  {
   "cell_type": "code",
   "execution_count": 2,
   "metadata": {},
   "outputs": [
    {
     "data": {
      "text/html": [
       "<div>\n",
       "<style scoped>\n",
       "    .dataframe tbody tr th:only-of-type {\n",
       "        vertical-align: middle;\n",
       "    }\n",
       "\n",
       "    .dataframe tbody tr th {\n",
       "        vertical-align: top;\n",
       "    }\n",
       "\n",
       "    .dataframe thead th {\n",
       "        text-align: right;\n",
       "    }\n",
       "</style>\n",
       "<table border=\"1\" class=\"dataframe\">\n",
       "  <thead>\n",
       "    <tr style=\"text-align: right;\">\n",
       "      <th></th>\n",
       "      <th>지점명</th>\n",
       "      <th>일시</th>\n",
       "      <th>평균기온(℃)</th>\n",
       "      <th>최고기온(℃)</th>\n",
       "      <th>최저기온(℃)</th>\n",
       "      <th>일교차</th>\n",
       "    </tr>\n",
       "  </thead>\n",
       "  <tbody>\n",
       "    <tr>\n",
       "      <th>0</th>\n",
       "      <td>서울</td>\n",
       "      <td>1907-10-01</td>\n",
       "      <td>13.5</td>\n",
       "      <td>20.7</td>\n",
       "      <td>7.9</td>\n",
       "      <td>12.8</td>\n",
       "    </tr>\n",
       "    <tr>\n",
       "      <th>1</th>\n",
       "      <td>서울</td>\n",
       "      <td>1907-10-02</td>\n",
       "      <td>16.2</td>\n",
       "      <td>22.0</td>\n",
       "      <td>7.9</td>\n",
       "      <td>14.1</td>\n",
       "    </tr>\n",
       "    <tr>\n",
       "      <th>2</th>\n",
       "      <td>서울</td>\n",
       "      <td>1907-10-03</td>\n",
       "      <td>16.2</td>\n",
       "      <td>21.3</td>\n",
       "      <td>13.1</td>\n",
       "      <td>8.2</td>\n",
       "    </tr>\n",
       "    <tr>\n",
       "      <th>3</th>\n",
       "      <td>서울</td>\n",
       "      <td>1907-10-04</td>\n",
       "      <td>16.5</td>\n",
       "      <td>22.0</td>\n",
       "      <td>11.2</td>\n",
       "      <td>10.8</td>\n",
       "    </tr>\n",
       "    <tr>\n",
       "      <th>4</th>\n",
       "      <td>서울</td>\n",
       "      <td>1907-10-05</td>\n",
       "      <td>17.6</td>\n",
       "      <td>25.4</td>\n",
       "      <td>10.9</td>\n",
       "      <td>14.5</td>\n",
       "    </tr>\n",
       "    <tr>\n",
       "      <th>...</th>\n",
       "      <td>...</td>\n",
       "      <td>...</td>\n",
       "      <td>...</td>\n",
       "      <td>...</td>\n",
       "      <td>...</td>\n",
       "      <td>...</td>\n",
       "    </tr>\n",
       "    <tr>\n",
       "      <th>41283</th>\n",
       "      <td>서울</td>\n",
       "      <td>2021-12-15</td>\n",
       "      <td>7.2</td>\n",
       "      <td>10.0</td>\n",
       "      <td>5.4</td>\n",
       "      <td>4.6</td>\n",
       "    </tr>\n",
       "    <tr>\n",
       "      <th>41284</th>\n",
       "      <td>서울</td>\n",
       "      <td>2021-12-16</td>\n",
       "      <td>6.4</td>\n",
       "      <td>9.8</td>\n",
       "      <td>3.3</td>\n",
       "      <td>6.5</td>\n",
       "    </tr>\n",
       "    <tr>\n",
       "      <th>41285</th>\n",
       "      <td>서울</td>\n",
       "      <td>2021-12-17</td>\n",
       "      <td>-5.6</td>\n",
       "      <td>3.2</td>\n",
       "      <td>-10.1</td>\n",
       "      <td>13.3</td>\n",
       "    </tr>\n",
       "    <tr>\n",
       "      <th>41286</th>\n",
       "      <td>서울</td>\n",
       "      <td>2021-12-18</td>\n",
       "      <td>-5.7</td>\n",
       "      <td>-1.8</td>\n",
       "      <td>-11.2</td>\n",
       "      <td>9.4</td>\n",
       "    </tr>\n",
       "    <tr>\n",
       "      <th>41287</th>\n",
       "      <td>서울</td>\n",
       "      <td>2021-12-19</td>\n",
       "      <td>-0.8</td>\n",
       "      <td>4.2</td>\n",
       "      <td>-5.8</td>\n",
       "      <td>10.0</td>\n",
       "    </tr>\n",
       "  </tbody>\n",
       "</table>\n",
       "<p>41288 rows × 6 columns</p>\n",
       "</div>"
      ],
      "text/plain": [
       "      지점명          일시  평균기온(℃)  최고기온(℃)  최저기온(℃)   일교차\n",
       "0      서울  1907-10-01     13.5     20.7      7.9  12.8\n",
       "1      서울  1907-10-02     16.2     22.0      7.9  14.1\n",
       "2      서울  1907-10-03     16.2     21.3     13.1   8.2\n",
       "3      서울  1907-10-04     16.5     22.0     11.2  10.8\n",
       "4      서울  1907-10-05     17.6     25.4     10.9  14.5\n",
       "...    ..         ...      ...      ...      ...   ...\n",
       "41283  서울  2021-12-15      7.2     10.0      5.4   4.6\n",
       "41284  서울  2021-12-16      6.4      9.8      3.3   6.5\n",
       "41285  서울  2021-12-17     -5.6      3.2    -10.1  13.3\n",
       "41286  서울  2021-12-18     -5.7     -1.8    -11.2   9.4\n",
       "41287  서울  2021-12-19     -0.8      4.2     -5.8  10.0\n",
       "\n",
       "[41288 rows x 6 columns]"
      ]
     },
     "execution_count": 2,
     "metadata": {},
     "output_type": "execute_result"
    }
   ],
   "source": [
    "df = pd.read_csv('./seoul.csv', encoding = 'cp949')\n",
    "df"
   ]
  },
  {
   "cell_type": "code",
   "execution_count": 3,
   "metadata": {},
   "outputs": [
    {
     "name": "stdout",
     "output_type": "stream",
     "text": [
      "<class 'pandas.core.frame.DataFrame'>\n",
      "RangeIndex: 41288 entries, 0 to 41287\n",
      "Data columns (total 6 columns):\n",
      " #   Column   Non-Null Count  Dtype  \n",
      "---  ------   --------------  -----  \n",
      " 0   지점명      41288 non-null  object \n",
      " 1   일시       41288 non-null  object \n",
      " 2   평균기온(℃)  40532 non-null  float64\n",
      " 3   최고기온(℃)  40529 non-null  float64\n",
      " 4   최저기온(℃)  40530 non-null  float64\n",
      " 5   일교차      40529 non-null  float64\n",
      "dtypes: float64(4), object(2)\n",
      "memory usage: 1.9+ MB\n"
     ]
    }
   ],
   "source": [
    "df.info()"
   ]
  },
  {
   "cell_type": "code",
   "execution_count": 4,
   "metadata": {},
   "outputs": [],
   "source": [
    "df['일시'] = pd.to_datetime(df['일시'])"
   ]
  },
  {
   "cell_type": "markdown",
   "metadata": {},
   "source": [
    "# 기상 관측 이래, 서울의 최고 기온이 가장 높았던 날은?"
   ]
  },
  {
   "cell_type": "code",
   "execution_count": 5,
   "metadata": {},
   "outputs": [
    {
     "data": {
      "text/plain": [
       "39.6"
      ]
     },
     "execution_count": 5,
     "metadata": {},
     "output_type": "execute_result"
    }
   ],
   "source": [
    "max_temp = df['최고기온(℃)'].max()\n",
    "max_temp"
   ]
  },
  {
   "cell_type": "code",
   "execution_count": 6,
   "metadata": {},
   "outputs": [
    {
     "data": {
      "text/plain": [
       "Timestamp('2018-08-01 00:00:00')"
      ]
     },
     "execution_count": 6,
     "metadata": {},
     "output_type": "execute_result"
    }
   ],
   "source": [
    "for i in range(len(df)):\n",
    "    if df['최고기온(℃)'][i] == max_temp:\n",
    "        max_date =df['일시'][i]\n",
    "max_date"
   ]
  },
  {
   "cell_type": "code",
   "execution_count": 7,
   "metadata": {},
   "outputs": [
    {
     "name": "stdout",
     "output_type": "stream",
     "text": [
      "기상 관측 이래 서울의 최고 기온이 가장 높았던 날은 2018-08-01 00:00:00 로, 39.6 도 였습니다.\n"
     ]
    }
   ],
   "source": [
    "print('기상 관측 이래 서울의 최고 기온이 가장 높았던 날은', max_date, '로,', max_temp, '도 였습니다.')"
   ]
  },
  {
   "cell_type": "markdown",
   "metadata": {},
   "source": [
    "# 크리스마스의 기온 변화"
   ]
  },
  {
   "cell_type": "code",
   "execution_count": 8,
   "metadata": {},
   "outputs": [
    {
     "data": {
      "text/html": [
       "<div>\n",
       "<style scoped>\n",
       "    .dataframe tbody tr th:only-of-type {\n",
       "        vertical-align: middle;\n",
       "    }\n",
       "\n",
       "    .dataframe tbody tr th {\n",
       "        vertical-align: top;\n",
       "    }\n",
       "\n",
       "    .dataframe thead th {\n",
       "        text-align: right;\n",
       "    }\n",
       "</style>\n",
       "<table border=\"1\" class=\"dataframe\">\n",
       "  <thead>\n",
       "    <tr style=\"text-align: right;\">\n",
       "      <th></th>\n",
       "      <th>지점명</th>\n",
       "      <th>일시</th>\n",
       "      <th>평균기온(℃)</th>\n",
       "      <th>최고기온(℃)</th>\n",
       "      <th>최저기온(℃)</th>\n",
       "      <th>일교차</th>\n",
       "    </tr>\n",
       "  </thead>\n",
       "  <tbody>\n",
       "    <tr>\n",
       "      <th>0</th>\n",
       "      <td>서울</td>\n",
       "      <td>1907-12-25</td>\n",
       "      <td>3.5</td>\n",
       "      <td>6.8</td>\n",
       "      <td>1.1</td>\n",
       "      <td>5.7</td>\n",
       "    </tr>\n",
       "    <tr>\n",
       "      <th>1</th>\n",
       "      <td>서울</td>\n",
       "      <td>1908-12-25</td>\n",
       "      <td>-0.3</td>\n",
       "      <td>6.3</td>\n",
       "      <td>-6.6</td>\n",
       "      <td>12.9</td>\n",
       "    </tr>\n",
       "    <tr>\n",
       "      <th>2</th>\n",
       "      <td>서울</td>\n",
       "      <td>1909-12-25</td>\n",
       "      <td>-9.9</td>\n",
       "      <td>-6.0</td>\n",
       "      <td>-12.5</td>\n",
       "      <td>6.5</td>\n",
       "    </tr>\n",
       "    <tr>\n",
       "      <th>3</th>\n",
       "      <td>서울</td>\n",
       "      <td>1910-12-25</td>\n",
       "      <td>-0.5</td>\n",
       "      <td>0.6</td>\n",
       "      <td>-4.1</td>\n",
       "      <td>4.7</td>\n",
       "    </tr>\n",
       "    <tr>\n",
       "      <th>4</th>\n",
       "      <td>서울</td>\n",
       "      <td>1911-12-25</td>\n",
       "      <td>-1.8</td>\n",
       "      <td>0.7</td>\n",
       "      <td>-5.4</td>\n",
       "      <td>6.1</td>\n",
       "    </tr>\n",
       "    <tr>\n",
       "      <th>...</th>\n",
       "      <td>...</td>\n",
       "      <td>...</td>\n",
       "      <td>...</td>\n",
       "      <td>...</td>\n",
       "      <td>...</td>\n",
       "      <td>...</td>\n",
       "    </tr>\n",
       "    <tr>\n",
       "      <th>108</th>\n",
       "      <td>서울</td>\n",
       "      <td>2016-12-25</td>\n",
       "      <td>1.0</td>\n",
       "      <td>6.4</td>\n",
       "      <td>-4.5</td>\n",
       "      <td>10.9</td>\n",
       "    </tr>\n",
       "    <tr>\n",
       "      <th>109</th>\n",
       "      <td>서울</td>\n",
       "      <td>2017-12-25</td>\n",
       "      <td>-2.1</td>\n",
       "      <td>0.6</td>\n",
       "      <td>-4.9</td>\n",
       "      <td>5.5</td>\n",
       "    </tr>\n",
       "    <tr>\n",
       "      <th>110</th>\n",
       "      <td>서울</td>\n",
       "      <td>2018-12-25</td>\n",
       "      <td>0.6</td>\n",
       "      <td>5.2</td>\n",
       "      <td>-4.0</td>\n",
       "      <td>9.2</td>\n",
       "    </tr>\n",
       "    <tr>\n",
       "      <th>111</th>\n",
       "      <td>서울</td>\n",
       "      <td>2019-12-25</td>\n",
       "      <td>2.0</td>\n",
       "      <td>6.6</td>\n",
       "      <td>-2.7</td>\n",
       "      <td>9.3</td>\n",
       "    </tr>\n",
       "    <tr>\n",
       "      <th>112</th>\n",
       "      <td>서울</td>\n",
       "      <td>2020-12-25</td>\n",
       "      <td>-0.8</td>\n",
       "      <td>3.5</td>\n",
       "      <td>-4.7</td>\n",
       "      <td>8.2</td>\n",
       "    </tr>\n",
       "  </tbody>\n",
       "</table>\n",
       "<p>113 rows × 6 columns</p>\n",
       "</div>"
      ],
      "text/plain": [
       "    지점명         일시  평균기온(℃)  최고기온(℃)  최저기온(℃)   일교차\n",
       "0    서울 1907-12-25      3.5      6.8      1.1   5.7\n",
       "1    서울 1908-12-25     -0.3      6.3     -6.6  12.9\n",
       "2    서울 1909-12-25     -9.9     -6.0    -12.5   6.5\n",
       "3    서울 1910-12-25     -0.5      0.6     -4.1   4.7\n",
       "4    서울 1911-12-25     -1.8      0.7     -5.4   6.1\n",
       "..   ..        ...      ...      ...      ...   ...\n",
       "108  서울 2016-12-25      1.0      6.4     -4.5  10.9\n",
       "109  서울 2017-12-25     -2.1      0.6     -4.9   5.5\n",
       "110  서울 2018-12-25      0.6      5.2     -4.0   9.2\n",
       "111  서울 2019-12-25      2.0      6.6     -2.7   9.3\n",
       "112  서울 2020-12-25     -0.8      3.5     -4.7   8.2\n",
       "\n",
       "[113 rows x 6 columns]"
      ]
     },
     "execution_count": 8,
     "metadata": {},
     "output_type": "execute_result"
    }
   ],
   "source": [
    "result = df[(df['일시'].dt.month == 12) & (df['일시'].dt.day == 25)].reset_index(drop = True)\n",
    "result"
   ]
  },
  {
   "cell_type": "code",
   "execution_count": 9,
   "metadata": {},
   "outputs": [
    {
     "data": {
      "image/png": "[encoded data removed]",
      "text/plain": [
       "<Figure size 432x288 with 1 Axes>"
      ]
     },
     "metadata": {
      "needs_background": "light"
     },
     "output_type": "display_data"
    }
   ],
   "source": [
    "plt.plot(result['일시'], result['평균기온(℃)'], 'hotpink')\n",
    "plt.show()"
   ]
  },
  {
   "cell_type": "code",
   "execution_count": 11,
   "metadata": {},
   "outputs": [
    {
     "data": {
      "image/png": "[encoded data removed]",
      "text/plain": [
       "<Figure size 432x288 with 1 Axes>"
      ]
     },
     "metadata": {
      "needs_background": "light"
     },
     "output_type": "display_data"
    }
   ],
   "source": [
    "plt.plot(result['일시'], result['최고기온(℃)'], 'r', label = 'high')\n",
    "plt.plot(result['일시'], result['최저기온(℃)'], 'skyblue', label = 'low')\n",
    "plt.rcParams['axes.unicode_minus'] = False     # 마이너스 기호 깨짐 방지\n",
    "plt.rcParams['font.family'] = 'Malgun Gothic'     # 한글 폰트\n",
    "plt.title('크리스마스의 기온 변화 그래프')\n",
    "plt.legend()     # 범례 표시\n",
    "plt.show()"
   ]
  },
  {
   "cell_type": "markdown",
   "metadata": {},
   "source": [
    "# 기온 데이터의 다양한 시각화"
   ]
  },
  {
   "cell_type": "markdown",
   "metadata": {},
   "source": [
    "#### 1907년 ~ 2021년까지의 최고기온을 히스토그램으로 표현"
   ]
  },
  {
   "cell_type": "code",
   "execution_count": 12,
   "metadata": {},
   "outputs": [
    {
     "data": {
      "image/png": "[encoded data removed]",
      "text/plain": [
       "<Figure size 432x288 with 1 Axes>"
      ]
     },
     "metadata": {
      "needs_background": "light"
     },
     "output_type": "display_data"
    }
   ],
   "source": [
    "plt.hist(df['최고기온(℃)'], bins = 100, color = 'r')\n",
    "plt.show()"
   ]
  },
  {
   "cell_type": "markdown",
   "metadata": {},
   "source": [
    "#### 8월의 최고기온만 히스토그램으로 표현"
   ]
  },
  {
   "cell_type": "code",
   "execution_count": 13,
   "metadata": {},
   "outputs": [
    {
     "data": {
      "text/html": [
       "<div>\n",
       "<style scoped>\n",
       "    .dataframe tbody tr th:only-of-type {\n",
       "        vertical-align: middle;\n",
       "    }\n",
       "\n",
       "    .dataframe tbody tr th {\n",
       "        vertical-align: top;\n",
       "    }\n",
       "\n",
       "    .dataframe thead th {\n",
       "        text-align: right;\n",
       "    }\n",
       "</style>\n",
       "<table border=\"1\" class=\"dataframe\">\n",
       "  <thead>\n",
       "    <tr style=\"text-align: right;\">\n",
       "      <th></th>\n",
       "      <th>지점명</th>\n",
       "      <th>일시</th>\n",
       "      <th>평균기온(℃)</th>\n",
       "      <th>최고기온(℃)</th>\n",
       "      <th>최저기온(℃)</th>\n",
       "      <th>일교차</th>\n",
       "    </tr>\n",
       "  </thead>\n",
       "  <tbody>\n",
       "    <tr>\n",
       "      <th>0</th>\n",
       "      <td>서울</td>\n",
       "      <td>1908-08-01</td>\n",
       "      <td>26.2</td>\n",
       "      <td>29.6</td>\n",
       "      <td>24.4</td>\n",
       "      <td>5.2</td>\n",
       "    </tr>\n",
       "    <tr>\n",
       "      <th>1</th>\n",
       "      <td>서울</td>\n",
       "      <td>1908-08-02</td>\n",
       "      <td>26.4</td>\n",
       "      <td>30.7</td>\n",
       "      <td>23.3</td>\n",
       "      <td>7.4</td>\n",
       "    </tr>\n",
       "    <tr>\n",
       "      <th>2</th>\n",
       "      <td>서울</td>\n",
       "      <td>1908-08-03</td>\n",
       "      <td>26.9</td>\n",
       "      <td>32.0</td>\n",
       "      <td>24.2</td>\n",
       "      <td>7.8</td>\n",
       "    </tr>\n",
       "    <tr>\n",
       "      <th>3</th>\n",
       "      <td>서울</td>\n",
       "      <td>1908-08-04</td>\n",
       "      <td>26.3</td>\n",
       "      <td>31.5</td>\n",
       "      <td>22.6</td>\n",
       "      <td>8.9</td>\n",
       "    </tr>\n",
       "    <tr>\n",
       "      <th>4</th>\n",
       "      <td>서울</td>\n",
       "      <td>1908-08-05</td>\n",
       "      <td>27.3</td>\n",
       "      <td>32.4</td>\n",
       "      <td>23.6</td>\n",
       "      <td>8.8</td>\n",
       "    </tr>\n",
       "    <tr>\n",
       "      <th>...</th>\n",
       "      <td>...</td>\n",
       "      <td>...</td>\n",
       "      <td>...</td>\n",
       "      <td>...</td>\n",
       "      <td>...</td>\n",
       "      <td>...</td>\n",
       "    </tr>\n",
       "    <tr>\n",
       "      <th>3467</th>\n",
       "      <td>서울</td>\n",
       "      <td>2021-08-27</td>\n",
       "      <td>22.4</td>\n",
       "      <td>25.5</td>\n",
       "      <td>20.4</td>\n",
       "      <td>5.1</td>\n",
       "    </tr>\n",
       "    <tr>\n",
       "      <th>3468</th>\n",
       "      <td>서울</td>\n",
       "      <td>2021-08-28</td>\n",
       "      <td>23.6</td>\n",
       "      <td>28.2</td>\n",
       "      <td>19.7</td>\n",
       "      <td>8.5</td>\n",
       "    </tr>\n",
       "    <tr>\n",
       "      <th>3469</th>\n",
       "      <td>서울</td>\n",
       "      <td>2021-08-29</td>\n",
       "      <td>23.7</td>\n",
       "      <td>26.3</td>\n",
       "      <td>21.9</td>\n",
       "      <td>4.4</td>\n",
       "    </tr>\n",
       "    <tr>\n",
       "      <th>3470</th>\n",
       "      <td>서울</td>\n",
       "      <td>2021-08-30</td>\n",
       "      <td>24.2</td>\n",
       "      <td>27.7</td>\n",
       "      <td>21.2</td>\n",
       "      <td>6.5</td>\n",
       "    </tr>\n",
       "    <tr>\n",
       "      <th>3471</th>\n",
       "      <td>서울</td>\n",
       "      <td>2021-08-31</td>\n",
       "      <td>20.5</td>\n",
       "      <td>23.1</td>\n",
       "      <td>18.1</td>\n",
       "      <td>5.0</td>\n",
       "    </tr>\n",
       "  </tbody>\n",
       "</table>\n",
       "<p>3472 rows × 6 columns</p>\n",
       "</div>"
      ],
      "text/plain": [
       "     지점명         일시  평균기온(℃)  최고기온(℃)  최저기온(℃)  일교차\n",
       "0     서울 1908-08-01     26.2     29.6     24.4  5.2\n",
       "1     서울 1908-08-02     26.4     30.7     23.3  7.4\n",
       "2     서울 1908-08-03     26.9     32.0     24.2  7.8\n",
       "3     서울 1908-08-04     26.3     31.5     22.6  8.9\n",
       "4     서울 1908-08-05     27.3     32.4     23.6  8.8\n",
       "...   ..        ...      ...      ...      ...  ...\n",
       "3467  서울 2021-08-27     22.4     25.5     20.4  5.1\n",
       "3468  서울 2021-08-28     23.6     28.2     19.7  8.5\n",
       "3469  서울 2021-08-29     23.7     26.3     21.9  4.4\n",
       "3470  서울 2021-08-30     24.2     27.7     21.2  6.5\n",
       "3471  서울 2021-08-31     20.5     23.1     18.1  5.0\n",
       "\n",
       "[3472 rows x 6 columns]"
      ]
     },
     "execution_count": 13,
     "metadata": {},
     "output_type": "execute_result"
    }
   ],
   "source": [
    "aug = df[df['일시'].dt.month == 8].reset_index(drop = True)\n",
    "aug"
   ]
  },
  {
   "cell_type": "code",
   "execution_count": 14,
   "metadata": {},
   "outputs": [
    {
     "data": {
      "image/png": "[encoded data removed]",
      "text/plain": [
       "<Figure size 432x288 with 1 Axes>"
      ]
     },
     "metadata": {
      "needs_background": "light"
     },
     "output_type": "display_data"
    }
   ],
   "source": [
    "plt.hist(aug['최고기온(℃)'], bins = 100, color = 'r')\n",
    "plt.show()"
   ]
  },
  {
   "cell_type": "markdown",
   "metadata": {},
   "source": [
    "- 역대 8월에는 최고기온이 28도 ~ 32도 정도가 가장 많음\n",
    "- 8월 최고기온이 20도 이하이거나 40도 이상인 경우는 거의 없음"
   ]
  },
  {
   "cell_type": "markdown",
   "metadata": {},
   "source": [
    "#### 1월과 8월의 최고기온을 히스토그램으로 표현"
   ]
  },
  {
   "cell_type": "code",
   "execution_count": 15,
   "metadata": {},
   "outputs": [
    {
     "data": {
      "text/html": [
       "<div>\n",
       "<style scoped>\n",
       "    .dataframe tbody tr th:only-of-type {\n",
       "        vertical-align: middle;\n",
       "    }\n",
       "\n",
       "    .dataframe tbody tr th {\n",
       "        vertical-align: top;\n",
       "    }\n",
       "\n",
       "    .dataframe thead th {\n",
       "        text-align: right;\n",
       "    }\n",
       "</style>\n",
       "<table border=\"1\" class=\"dataframe\">\n",
       "  <thead>\n",
       "    <tr style=\"text-align: right;\">\n",
       "      <th></th>\n",
       "      <th>지점명</th>\n",
       "      <th>일시</th>\n",
       "      <th>평균기온(℃)</th>\n",
       "      <th>최고기온(℃)</th>\n",
       "      <th>최저기온(℃)</th>\n",
       "      <th>일교차</th>\n",
       "    </tr>\n",
       "  </thead>\n",
       "  <tbody>\n",
       "    <tr>\n",
       "      <th>0</th>\n",
       "      <td>서울</td>\n",
       "      <td>1908-01-01</td>\n",
       "      <td>-5.9</td>\n",
       "      <td>-1.3</td>\n",
       "      <td>-9.1</td>\n",
       "      <td>7.8</td>\n",
       "    </tr>\n",
       "    <tr>\n",
       "      <th>1</th>\n",
       "      <td>서울</td>\n",
       "      <td>1908-01-02</td>\n",
       "      <td>-7.7</td>\n",
       "      <td>-3.0</td>\n",
       "      <td>-13.9</td>\n",
       "      <td>10.9</td>\n",
       "    </tr>\n",
       "    <tr>\n",
       "      <th>2</th>\n",
       "      <td>서울</td>\n",
       "      <td>1908-01-03</td>\n",
       "      <td>-6.2</td>\n",
       "      <td>-2.9</td>\n",
       "      <td>-10.8</td>\n",
       "      <td>7.9</td>\n",
       "    </tr>\n",
       "    <tr>\n",
       "      <th>3</th>\n",
       "      <td>서울</td>\n",
       "      <td>1908-01-04</td>\n",
       "      <td>-7.5</td>\n",
       "      <td>-1.7</td>\n",
       "      <td>-12.8</td>\n",
       "      <td>11.1</td>\n",
       "    </tr>\n",
       "    <tr>\n",
       "      <th>4</th>\n",
       "      <td>서울</td>\n",
       "      <td>1908-01-05</td>\n",
       "      <td>-4.8</td>\n",
       "      <td>-0.1</td>\n",
       "      <td>-11.3</td>\n",
       "      <td>11.2</td>\n",
       "    </tr>\n",
       "    <tr>\n",
       "      <th>...</th>\n",
       "      <td>...</td>\n",
       "      <td>...</td>\n",
       "      <td>...</td>\n",
       "      <td>...</td>\n",
       "      <td>...</td>\n",
       "      <td>...</td>\n",
       "    </tr>\n",
       "    <tr>\n",
       "      <th>3498</th>\n",
       "      <td>서울</td>\n",
       "      <td>2021-01-27</td>\n",
       "      <td>1.7</td>\n",
       "      <td>6.5</td>\n",
       "      <td>-1.8</td>\n",
       "      <td>8.3</td>\n",
       "    </tr>\n",
       "    <tr>\n",
       "      <th>3499</th>\n",
       "      <td>서울</td>\n",
       "      <td>2021-01-28</td>\n",
       "      <td>-2.6</td>\n",
       "      <td>1.4</td>\n",
       "      <td>-9.7</td>\n",
       "      <td>11.1</td>\n",
       "    </tr>\n",
       "    <tr>\n",
       "      <th>3500</th>\n",
       "      <td>서울</td>\n",
       "      <td>2021-01-29</td>\n",
       "      <td>-8.8</td>\n",
       "      <td>-4.9</td>\n",
       "      <td>-11.6</td>\n",
       "      <td>6.7</td>\n",
       "    </tr>\n",
       "    <tr>\n",
       "      <th>3501</th>\n",
       "      <td>서울</td>\n",
       "      <td>2021-01-30</td>\n",
       "      <td>-1.6</td>\n",
       "      <td>5.2</td>\n",
       "      <td>-8.1</td>\n",
       "      <td>13.3</td>\n",
       "    </tr>\n",
       "    <tr>\n",
       "      <th>3502</th>\n",
       "      <td>서울</td>\n",
       "      <td>2021-01-31</td>\n",
       "      <td>3.2</td>\n",
       "      <td>8.7</td>\n",
       "      <td>-3.8</td>\n",
       "      <td>12.5</td>\n",
       "    </tr>\n",
       "  </tbody>\n",
       "</table>\n",
       "<p>3503 rows × 6 columns</p>\n",
       "</div>"
      ],
      "text/plain": [
       "     지점명         일시  평균기온(℃)  최고기온(℃)  최저기온(℃)   일교차\n",
       "0     서울 1908-01-01     -5.9     -1.3     -9.1   7.8\n",
       "1     서울 1908-01-02     -7.7     -3.0    -13.9  10.9\n",
       "2     서울 1908-01-03     -6.2     -2.9    -10.8   7.9\n",
       "3     서울 1908-01-04     -7.5     -1.7    -12.8  11.1\n",
       "4     서울 1908-01-05     -4.8     -0.1    -11.3  11.2\n",
       "...   ..        ...      ...      ...      ...   ...\n",
       "3498  서울 2021-01-27      1.7      6.5     -1.8   8.3\n",
       "3499  서울 2021-01-28     -2.6      1.4     -9.7  11.1\n",
       "3500  서울 2021-01-29     -8.8     -4.9    -11.6   6.7\n",
       "3501  서울 2021-01-30     -1.6      5.2     -8.1  13.3\n",
       "3502  서울 2021-01-31      3.2      8.7     -3.8  12.5\n",
       "\n",
       "[3503 rows x 6 columns]"
      ]
     },
     "execution_count": 15,
     "metadata": {},
     "output_type": "execute_result"
    }
   ],
   "source": [
    "jan = df[df['일시'].dt.month == 1].reset_index(drop = True)\n",
    "jan"
   ]
  },
  {
   "cell_type": "code",
   "execution_count": 16,
   "metadata": {},
   "outputs": [
    {
     "data": {
      "image/png": "[encoded data removed]",
      "text/plain": [
       "<Figure size 432x288 with 1 Axes>"
      ]
     },
     "metadata": {
      "needs_background": "light"
     },
     "output_type": "display_data"
    }
   ],
   "source": [
    "plt.hist(aug['최고기온(℃)'], bins = 100, color = 'r', label = 'aug')\n",
    "plt.hist(jan['최고기온(℃)'], bins = 100, color = 'b', label = 'jan')\n",
    "plt.legend()\n",
    "plt.show()"
   ]
  },
  {
   "cell_type": "markdown",
   "metadata": {},
   "source": [
    "#### 서울의 최고기온을 상자그림으로 표현"
   ]
  },
  {
   "cell_type": "code",
   "execution_count": 37,
   "metadata": {},
   "outputs": [
    {
     "data": {
      "text/plain": [
       "['지점명', '일시', '평균기온(℃)', '최고기온(℃)', '최저기온(℃)', '일교차']"
      ]
     },
     "execution_count": 37,
     "metadata": {},
     "output_type": "execute_result"
    }
   ],
   "source": [
    "import csv\n",
    "f = open('seoul.csv')\n",
    "data = csv.reader(f)\n",
    "next(data)"
   ]
  },
  {
   "cell_type": "code",
   "execution_count": 41,
   "metadata": {},
   "outputs": [
    {
     "data": {
      "image/png": "[encoded data removed]",
      "text/plain": [
       "<Figure size 432x288 with 1 Axes>"
      ]
     },
     "metadata": {
      "needs_background": "light"
     },
     "output_type": "display_data"
    }
   ],
   "source": [
    "import csv\n",
    "f = open('seoul.csv')\n",
    "data = csv.reader(f)\n",
    "next(data)\n",
    "result = []\n",
    "\n",
    "for row in data:\n",
    "    if row[-3] != '':\n",
    "        result.append(float(row[-3]))\n",
    "        \n",
    "import matplotlib.pyplot as plt\n",
    "plt.boxplot(result)\n",
    "plt.show()"
   ]
  },
  {
   "cell_type": "code",
   "execution_count": 42,
   "metadata": {},
   "outputs": [
    {
     "name": "stdout",
     "output_type": "stream",
     "text": [
      "1/4: 7.3\n",
      "2/4: 18.6\n",
      "3/4: 26.3\n"
     ]
    }
   ],
   "source": [
    "# 1/4, 2/4, 3/4에 위치한 정확한 값 확인\n",
    "print('1/4: ' + str(np.percentile(result, 25)))\n",
    "print('2/4: ' + str(np.percentile(result, 50)))\n",
    "print('3/4: ' + str(np.percentile(result, 75)))"
   ]
  },
  {
   "cell_type": "markdown",
   "metadata": {},
   "source": [
    "#### 1월과 8월 최고기온의 상자그림"
   ]
  },
  {
   "cell_type": "code",
   "execution_count": 43,
   "metadata": {},
   "outputs": [
    {
     "data": {
      "image/png": "[encoded data removed]",
      "text/plain": [
       "<Figure size 432x288 with 1 Axes>"
      ]
     },
     "metadata": {
      "needs_background": "light"
     },
     "output_type": "display_data"
    }
   ],
   "source": [
    "import csv\n",
    "f = open('seoul.csv')\n",
    "data = csv.reader(f)\n",
    "next(data)\n",
    "aug = []\n",
    "jan = []\n",
    "\n",
    "for row in data:\n",
    "    month = row[1].split('-')[1]\n",
    "    if row[-3] != '':\n",
    "        if month == '08':\n",
    "            aug.append(float(row[-3]))\n",
    "        elif month == '01':\n",
    "            jan.append(float(row[-3]))\n",
    "            \n",
    "import matplotlib.pyplot as plt\n",
    "plt.boxplot(aug)\n",
    "plt.boxplot(jan)\n",
    "plt.show()"
   ]
  },
  {
   "cell_type": "code",
   "execution_count": 44,
   "metadata": {},
   "outputs": [
    {
     "data": {
      "text/plain": [
       "{'whiskers': [<matplotlib.lines.Line2D at 0x26cef26ea08>,\n",
       "  <matplotlib.lines.Line2D at 0x26cef26e8c8>,\n",
       "  <matplotlib.lines.Line2D at 0x26cefcb4248>,\n",
       "  <matplotlib.lines.Line2D at 0x26cef26e4c8>],\n",
       " 'caps': [<matplotlib.lines.Line2D at 0x26cece68a48>,\n",
       "  <matplotlib.lines.Line2D at 0x26cef163c88>,\n",
       "  <matplotlib.lines.Line2D at 0x26cedc4b8c8>,\n",
       "  <matplotlib.lines.Line2D at 0x26cefcb4588>],\n",
       " 'boxes': [<matplotlib.lines.Line2D at 0x26cef26eac8>,\n",
       "  <matplotlib.lines.Line2D at 0x26cedbf4648>],\n",
       " 'medians': [<matplotlib.lines.Line2D at 0x26cef26ea88>,\n",
       "  <matplotlib.lines.Line2D at 0x26cefcb49c8>],\n",
       " 'fliers': [<matplotlib.lines.Line2D at 0x26cedbf40c8>,\n",
       "  <matplotlib.lines.Line2D at 0x26cedc43708>],\n",
       " 'means': []}"
      ]
     },
     "execution_count": 44,
     "metadata": {},
     "output_type": "execute_result"
    },
    {
     "data": {
      "image/png": "[encoded data removed]",
      "text/plain": [
       "<Figure size 432x288 with 1 Axes>"
      ]
     },
     "metadata": {
      "needs_background": "light"
     },
     "output_type": "display_data"
    }
   ],
   "source": [
    "plt.boxplot([aug, jan])"
   ]
  },
  {
   "cell_type": "markdown",
   "metadata": {},
   "source": [
    "#### 월별 최고 기온 데이터 비교"
   ]
  },
  {
   "cell_type": "code",
   "execution_count": 47,
   "metadata": {},
   "outputs": [
    {
     "data": {
      "image/png": "[encoded data removed]",
      "text/plain": [
       "<Figure size 432x288 with 1 Axes>"
      ]
     },
     "metadata": {
      "needs_background": "light"
     },
     "output_type": "display_data"
    }
   ],
   "source": [
    "import csv\n",
    "f = open('seoul.csv')\n",
    "data = csv.reader(f)\n",
    "next(data)\n",
    "\n",
    "# 월별 데이터를 저장할 리스트 생성\n",
    "month = [[], [], [], [], [], [], [], [], [], [], [], []]\n",
    "\n",
    "for row in data:\n",
    "    if row[-3] != '':\n",
    "        # 월과 같은 번호의 인덱스에 월별 데이터 저장\n",
    "        month[int(row[1].split('-')[1]) - 1].append(float(row[-3]))\n",
    "        \n",
    "import matplotlib.pyplot as plt\n",
    "plt.boxplot(month)\n",
    "plt.show()"
   ]
  },
  {
   "cell_type": "markdown",
   "metadata": {},
   "source": [
    "- 위 결과를 확인해보면 8월의 최고기온이 가장 덥고, 1월의 최고기온이 가장 낮다"
   ]
  },
  {
   "cell_type": "markdown",
   "metadata": {},
   "source": [
    "#### 8월 중 가장 더운 날은? 8월의 일별 기온 데이터를 상자그림으로 표현"
   ]
  },
  {
   "cell_type": "code",
   "execution_count": 48,
   "metadata": {},
   "outputs": [
    {
     "data": {
      "image/png": "[encoded data removed]",
      "text/plain": [
       "<Figure size 3000x1500 with 1 Axes>"
      ]
     },
     "metadata": {},
     "output_type": "display_data"
    }
   ],
   "source": [
    "import csv\n",
    "f = open('seoul.csv')\n",
    "data = csv.reader(f)\n",
    "next(data)\n",
    "\n",
    "day = []     # 일별 데이터를 저장할 리스트 생성\n",
    "for i in range(31):\n",
    "    day.append([])     # day리스트 내에 31개의 리스트 생성\n",
    "    \n",
    "for row in data:\n",
    "    if row[-3] != '':\n",
    "        if row[1].split('-')[1] == '08':     # 8월\n",
    "            # 최고기온 값 day에 저장\n",
    "            day[int(row[1].split('-')[2]) - 1].append(float(row[-3]))\n",
    "            \n",
    "import matplotlib.pyplot as plt\n",
    "plt.style.use('ggplot')     # 그래프 스타일 지정(회색 격자 무늬, 2/4값을 의미하는 선의 색 파랑)\n",
    "plt.figure(figsize = (10, 5), dpi = 300)     # 그래프 크기 수정\n",
    "plt.boxplot(day, showfliers = False)     # 아웃라이어 생략\n",
    "plt.show()"
   ]
  }
 ],
 "metadata": {
  "kernelspec": {
   "display_name": "Python 3",
   "language": "python",
   "name": "python3"
  },
  "language_info": {
   "codemirror_mode": {
    "name": "ipython",
    "version": 3
   },
   "file_extension": ".py",
   "mimetype": "text/x-python",
   "name": "python",
   "nbconvert_exporter": "python",
   "pygments_lexer": "ipython3",
   "version": "3.7.6"
  }
 },
 "nbformat": 4,
 "nbformat_minor": 4
}
